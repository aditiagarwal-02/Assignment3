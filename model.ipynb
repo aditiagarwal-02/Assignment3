{
 "cells": [
  {
   "cell_type": "code",
   "execution_count": 1,
   "metadata": {},
   "outputs": [
    {
     "name": "stdout",
     "output_type": "stream",
     "text": [
      "Epoch 1/10\n",
      "704/704 [==============================] - 23s 31ms/step - loss: 1.4930 - accuracy: 0.4654 - val_loss: 1.2543 - val_accuracy: 0.5530\n",
      "Epoch 2/10\n",
      "704/704 [==============================] - 23s 32ms/step - loss: 1.1513 - accuracy: 0.5940 - val_loss: 1.0629 - val_accuracy: 0.6272\n",
      "Epoch 3/10\n",
      "704/704 [==============================] - 22s 31ms/step - loss: 1.0045 - accuracy: 0.6490 - val_loss: 0.9734 - val_accuracy: 0.6612\n",
      "Epoch 4/10\n",
      "704/704 [==============================] - 22s 31ms/step - loss: 0.9082 - accuracy: 0.6842 - val_loss: 0.9056 - val_accuracy: 0.6862\n",
      "Epoch 5/10\n",
      "704/704 [==============================] - 22s 31ms/step - loss: 0.8273 - accuracy: 0.7142 - val_loss: 0.8937 - val_accuracy: 0.6914\n",
      "Epoch 6/10\n",
      "704/704 [==============================] - 22s 31ms/step - loss: 0.7581 - accuracy: 0.7369 - val_loss: 0.8947 - val_accuracy: 0.6854\n",
      "Epoch 7/10\n",
      "704/704 [==============================] - 22s 31ms/step - loss: 0.6909 - accuracy: 0.7632 - val_loss: 0.8490 - val_accuracy: 0.7114\n",
      "Epoch 8/10\n",
      "704/704 [==============================] - 22s 31ms/step - loss: 0.6339 - accuracy: 0.7810 - val_loss: 0.8634 - val_accuracy: 0.7086\n",
      "Epoch 9/10\n",
      "704/704 [==============================] - 22s 31ms/step - loss: 0.5772 - accuracy: 0.8004 - val_loss: 0.8309 - val_accuracy: 0.7236\n",
      "Epoch 10/10\n",
      "704/704 [==============================] - 23s 33ms/step - loss: 0.5349 - accuracy: 0.8156 - val_loss: 0.8749 - val_accuracy: 0.7178\n",
      "313/313 [==============================] - 2s 7ms/step - loss: 0.9275 - accuracy: 0.7011\n",
      "Test accuracy: 0.7010999917984009\n"
     ]
    }
   ],
   "source": [
    "import tensorflow as tf\n",
    "from tensorflow import keras\n",
    "from tensorflow.keras import layers\n",
    "\n",
    "# Load CIFAR-10 dataset\n",
    "(x_train, y_train), (x_test, y_test) = keras.datasets.cifar10.load_data()\n",
    "\n",
    "# Normalize pixel values between 0 and 1\n",
    "x_train = x_train.astype(\"float32\") / 255.0\n",
    "x_test = x_test.astype(\"float32\") / 255.0\n",
    "\n",
    "# Convert labels to one-hot encoding\n",
    "y_train = keras.utils.to_categorical(y_train, 10)\n",
    "y_test = keras.utils.to_categorical(y_test, 10)\n",
    "\n",
    "# Define model architecture\n",
    "model = keras.Sequential(\n",
    "    [\n",
    "        layers.Conv2D(32, (3, 3), activation=\"relu\", input_shape=(32, 32, 3)),\n",
    "        layers.MaxPooling2D(pool_size=(2, 2)),\n",
    "        layers.Conv2D(64, (3, 3), activation=\"relu\"),\n",
    "        layers.MaxPooling2D(pool_size=(2, 2)),\n",
    "        layers.Flatten(),\n",
    "        layers.Dense(128, activation=\"relu\"),\n",
    "        layers.Dense(10, activation=\"softmax\"),\n",
    "    ]\n",
    ")\n",
    "\n",
    "# Compile the model\n",
    "model.compile(\n",
    "    optimizer=\"adam\", loss=\"categorical_crossentropy\", metrics=[\"accuracy\"]\n",
    ")\n",
    "\n",
    "# Train the model\n",
    "history = model.fit(x_train, y_train, batch_size=64, epochs=10, validation_split=0.1)\n",
    "\n",
    "# Evaluate the model on the test set\n",
    "test_loss, test_acc = model.evaluate(x_test, y_test)\n",
    "print(\"Test accuracy:\", test_acc)\n"
   ]
  },
  {
   "cell_type": "code",
   "execution_count": 2,
   "metadata": {},
   "outputs": [],
   "source": [
    "\n",
    "model.save('trained_model.h5')"
   ]
  },
  {
   "cell_type": "code",
   "execution_count": null,
   "metadata": {},
   "outputs": [],
   "source": []
  }
 ],
 "metadata": {
  "kernelspec": {
   "display_name": "Python 3",
   "language": "python",
   "name": "python3"
  },
  "language_info": {
   "codemirror_mode": {
    "name": "ipython",
    "version": 3
   },
   "file_extension": ".py",
   "mimetype": "text/x-python",
   "name": "python",
   "nbconvert_exporter": "python",
   "pygments_lexer": "ipython3",
   "version": "3.11.3"
  },
  "orig_nbformat": 4
 },
 "nbformat": 4,
 "nbformat_minor": 2
}
